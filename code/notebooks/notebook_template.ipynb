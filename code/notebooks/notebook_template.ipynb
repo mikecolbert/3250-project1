{
 "cells": [
  {
   "cell_type": "markdown",
   "id": "8f1b6d22-e536-4322-b706-2b9d303601c4",
   "metadata": {},
   "source": [
    "# Project name"
   ]
  },
  {
   "cell_type": "markdown",
   "id": "31227c08-9763-408d-809e-1c203663d5f1",
   "metadata": {},
   "source": [
    "**Author:** Mike Colbert  \n",
    "**Last modified:** 11-13-2024 (created: 11-13-2024)  \n",
    "\n",
    "**Description:** Short paragraph explaining this project."
   ]
  },
  {
   "cell_type": "markdown",
   "id": "958891d0-2ada-4b91-87c7-1a0e2d82e33a",
   "metadata": {},
   "source": [
    "<br>"
   ]
  },
  {
   "cell_type": "markdown",
   "id": "6bc7cfab-6458-41ce-8aa3-e9dbe71c0e2d",
   "metadata": {},
   "source": [
    "Import libraries:"
   ]
  },
  {
   "cell_type": "code",
   "execution_count": 6,
   "id": "7b69d68d-088b-4024-894d-230e2e250778",
   "metadata": {},
   "outputs": [],
   "source": [
    "import pandas as pd"
   ]
  },
  {
   "cell_type": "markdown",
   "id": "d33fe149-eb13-4fd4-bddb-46700e796c9a",
   "metadata": {},
   "source": [
    "<br>"
   ]
  },
  {
   "cell_type": "markdown",
   "id": "884c5fc4-5462-49b7-917d-16cfbb75915f",
   "metadata": {},
   "source": [
    "Load data:"
   ]
  },
  {
   "cell_type": "code",
   "execution_count": 9,
   "id": "a2e0c710-5231-492d-b84c-7c2c5a434427",
   "metadata": {},
   "outputs": [],
   "source": [
    "# code to read csv file"
   ]
  }
 ],
 "metadata": {
  "kernelspec": {
   "display_name": "Python 3 (ipykernel)",
   "language": "python",
   "name": "python3"
  },
  "language_info": {
   "codemirror_mode": {
    "name": "ipython",
    "version": 3
   },
   "file_extension": ".py",
   "mimetype": "text/x-python",
   "name": "python",
   "nbconvert_exporter": "python",
   "pygments_lexer": "ipython3",
   "version": "3.12.2"
  }
 },
 "nbformat": 4,
 "nbformat_minor": 5
}
